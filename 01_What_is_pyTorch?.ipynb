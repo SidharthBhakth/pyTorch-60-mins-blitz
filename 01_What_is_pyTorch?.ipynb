{
  "nbformat": 4,
  "nbformat_minor": 0,
  "metadata": {
    "colab": {
      "name": "01. What is pyTorch?.ipynb",
      "provenance": [],
      "authorship_tag": "ABX9TyO1Mk7hRXWCfpCGlkgll3fi",
      "include_colab_link": true
    },
    "kernelspec": {
      "name": "python3",
      "display_name": "Python 3"
    },
    "accelerator": "GPU"
  },
  "cells": [
    {
      "cell_type": "markdown",
      "metadata": {
        "id": "view-in-github",
        "colab_type": "text"
      },
      "source": [
        "<a href=\"https://colab.research.google.com/github/SidharthBhakth/pyTorch-60-mins-blitz/blob/master/01_What_is_pyTorch%3F.ipynb\" target=\"_parent\"><img src=\"https://colab.research.google.com/assets/colab-badge.svg\" alt=\"Open In Colab\"/></a>"
      ]
    },
    {
      "cell_type": "markdown",
      "metadata": {
        "id": "Zi7obwReqLEd",
        "colab_type": "text"
      },
      "source": [
        "## Tensors"
      ]
    },
    {
      "cell_type": "code",
      "metadata": {
        "id": "5RE9VstspSRa",
        "colab_type": "code",
        "colab": {}
      },
      "source": [
        "from __future__ import print_function\n",
        "import torch"
      ],
      "execution_count": 1,
      "outputs": []
    },
    {
      "cell_type": "code",
      "metadata": {
        "id": "1BLBd9QwqJ_y",
        "colab_type": "code",
        "colab": {
          "base_uri": "https://localhost:8080/",
          "height": 101
        },
        "outputId": "952d0b76-8fff-48b1-d8c2-dc5ae7c38ccd"
      },
      "source": [
        "# Construct a 5x3 matrix, uninitialized\n",
        "x = torch.empty(5, 3)\n",
        "print(x)"
      ],
      "execution_count": 2,
      "outputs": [
        {
          "output_type": "stream",
          "text": [
            "tensor([[4.4900e-36, 0.0000e+00, 3.3631e-44],\n",
            "        [0.0000e+00,        nan, 0.0000e+00],\n",
            "        [1.1578e+27, 1.1362e+30, 7.1547e+22],\n",
            "        [4.5828e+30, 1.2121e+04, 7.1846e+22],\n",
            "        [9.2198e-39, 7.0374e+22, 1.5186e-36]])\n"
          ],
          "name": "stdout"
        }
      ]
    },
    {
      "cell_type": "code",
      "metadata": {
        "id": "eY7j4gE0qo7x",
        "colab_type": "code",
        "colab": {
          "base_uri": "https://localhost:8080/",
          "height": 101
        },
        "outputId": "d188ef4e-9bcc-4957-a519-1a3682c55da0"
      },
      "source": [
        "# Construct a randomly initialized matrix\n",
        "x = torch.rand(5, 3)\n",
        "print(x)"
      ],
      "execution_count": 3,
      "outputs": [
        {
          "output_type": "stream",
          "text": [
            "tensor([[0.4038, 0.4871, 0.0892],\n",
            "        [0.4928, 0.3581, 0.5046],\n",
            "        [0.0482, 0.3103, 0.4999],\n",
            "        [0.3254, 0.4339, 0.3189],\n",
            "        [0.7022, 0.6081, 0.5251]])\n"
          ],
          "name": "stdout"
        }
      ]
    },
    {
      "cell_type": "code",
      "metadata": {
        "id": "pxMOadRdq8ip",
        "colab_type": "code",
        "colab": {
          "base_uri": "https://localhost:8080/",
          "height": 101
        },
        "outputId": "9b9e836b-18ab-4719-bf2e-9221e5bd43a9"
      },
      "source": [
        "# Construct a matrix filled with zeros and dtype long\n",
        "x = torch.zeros(5, 3, dtype=torch.long)\n",
        "print(x)"
      ],
      "execution_count": 4,
      "outputs": [
        {
          "output_type": "stream",
          "text": [
            "tensor([[0, 0, 0],\n",
            "        [0, 0, 0],\n",
            "        [0, 0, 0],\n",
            "        [0, 0, 0],\n",
            "        [0, 0, 0]])\n"
          ],
          "name": "stdout"
        }
      ]
    },
    {
      "cell_type": "code",
      "metadata": {
        "id": "6v3rpGw3rZJf",
        "colab_type": "code",
        "colab": {
          "base_uri": "https://localhost:8080/",
          "height": 34
        },
        "outputId": "676ab87c-9977-4f59-a6ca-859593ea5006"
      },
      "source": [
        "# Construct a tensor directly from data\n",
        "x = torch.tensor([5.5, 3])\n",
        "print(x)"
      ],
      "execution_count": 5,
      "outputs": [
        {
          "output_type": "stream",
          "text": [
            "tensor([5.5000, 3.0000])\n"
          ],
          "name": "stdout"
        }
      ]
    },
    {
      "cell_type": "code",
      "metadata": {
        "id": "OdZQ9gTBryI_",
        "colab_type": "code",
        "colab": {
          "base_uri": "https://localhost:8080/",
          "height": 202
        },
        "outputId": "8a274802-e1e9-4292-b205-b8ce97a81ea1"
      },
      "source": [
        "# Create a tensor based on an existing tensor\n",
        "x = x.new_ones(5, 3, dtype=torch.double)\n",
        "print(x)\n",
        "\n",
        "x = torch.randn_like(x, dtype=torch.float)        # override dtype\n",
        "print(x)                                          # result has the same size\n",
        "print(x.size())"
      ],
      "execution_count": 6,
      "outputs": [
        {
          "output_type": "stream",
          "text": [
            "tensor([[1., 1., 1.],\n",
            "        [1., 1., 1.],\n",
            "        [1., 1., 1.],\n",
            "        [1., 1., 1.],\n",
            "        [1., 1., 1.]], dtype=torch.float64)\n",
            "tensor([[ 1.0530,  1.2153,  0.5681],\n",
            "        [ 0.6947, -1.1578,  1.2029],\n",
            "        [-1.2398, -1.0194, -0.7355],\n",
            "        [-0.9017, -0.7235, -2.5615],\n",
            "        [-0.6968,  0.1773, -0.5989]])\n",
            "torch.Size([5, 3])\n"
          ],
          "name": "stdout"
        }
      ]
    },
    {
      "cell_type": "markdown",
      "metadata": {
        "id": "oqn-rz8ntgiS",
        "colab_type": "text"
      },
      "source": [
        "## Operations"
      ]
    },
    {
      "cell_type": "markdown",
      "metadata": {
        "id": "Wwwo1zxr4hfQ",
        "colab_type": "text"
      },
      "source": [
        "**Addition**"
      ]
    },
    {
      "cell_type": "code",
      "metadata": {
        "id": "X9bmSdKzuOX0",
        "colab_type": "code",
        "colab": {
          "base_uri": "https://localhost:8080/",
          "height": 101
        },
        "outputId": "8db7cef3-438e-4967-94d5-53cc46fe70dd"
      },
      "source": [
        "# syntax 1\n",
        "y = torch.rand(5, 3)\n",
        "print(x + y)"
      ],
      "execution_count": 7,
      "outputs": [
        {
          "output_type": "stream",
          "text": [
            "tensor([[ 1.5622,  1.4863,  1.3304],\n",
            "        [ 0.8800, -0.5047,  1.2384],\n",
            "        [-0.9962, -0.8095, -0.3162],\n",
            "        [-0.0862,  0.1459, -2.0180],\n",
            "        [ 0.0934,  0.4738, -0.4814]])\n"
          ],
          "name": "stdout"
        }
      ]
    },
    {
      "cell_type": "code",
      "metadata": {
        "id": "E9yCu-I73uIJ",
        "colab_type": "code",
        "colab": {
          "base_uri": "https://localhost:8080/",
          "height": 101
        },
        "outputId": "6a37ff45-ee13-4e3d-85c2-c73522cb5590"
      },
      "source": [
        "# syntax 2\n",
        "print(torch.add(x, y))"
      ],
      "execution_count": 8,
      "outputs": [
        {
          "output_type": "stream",
          "text": [
            "tensor([[ 1.5622,  1.4863,  1.3304],\n",
            "        [ 0.8800, -0.5047,  1.2384],\n",
            "        [-0.9962, -0.8095, -0.3162],\n",
            "        [-0.0862,  0.1459, -2.0180],\n",
            "        [ 0.0934,  0.4738, -0.4814]])\n"
          ],
          "name": "stdout"
        }
      ]
    },
    {
      "cell_type": "code",
      "metadata": {
        "id": "PvrF8sCz4Lbp",
        "colab_type": "code",
        "colab": {
          "base_uri": "https://localhost:8080/",
          "height": 101
        },
        "outputId": "a9e08cfc-9df6-4f14-87bc-607f5dd5b6dd"
      },
      "source": [
        "# providing an output tensor as argument\n",
        "result = torch.empty(5, 3)\n",
        "torch.add(x, y, out=result)\n",
        "print(result)"
      ],
      "execution_count": 9,
      "outputs": [
        {
          "output_type": "stream",
          "text": [
            "tensor([[ 1.5622,  1.4863,  1.3304],\n",
            "        [ 0.8800, -0.5047,  1.2384],\n",
            "        [-0.9962, -0.8095, -0.3162],\n",
            "        [-0.0862,  0.1459, -2.0180],\n",
            "        [ 0.0934,  0.4738, -0.4814]])\n"
          ],
          "name": "stdout"
        }
      ]
    },
    {
      "cell_type": "code",
      "metadata": {
        "id": "Paq7NipL4smh",
        "colab_type": "code",
        "colab": {
          "base_uri": "https://localhost:8080/",
          "height": 101
        },
        "outputId": "37a94b72-c969-4786-af93-f62e079b8703"
      },
      "source": [
        "# in=place addition\n",
        "y.add_(x)\n",
        "print(y)"
      ],
      "execution_count": 10,
      "outputs": [
        {
          "output_type": "stream",
          "text": [
            "tensor([[ 1.5622,  1.4863,  1.3304],\n",
            "        [ 0.8800, -0.5047,  1.2384],\n",
            "        [-0.9962, -0.8095, -0.3162],\n",
            "        [-0.0862,  0.1459, -2.0180],\n",
            "        [ 0.0934,  0.4738, -0.4814]])\n"
          ],
          "name": "stdout"
        }
      ]
    },
    {
      "cell_type": "code",
      "metadata": {
        "id": "2Dqp6O0N5Yd1",
        "colab_type": "code",
        "colab": {
          "base_uri": "https://localhost:8080/",
          "height": 34
        },
        "outputId": "f3acd2c0-93e4-4a41-f113-13ef42bd1725"
      },
      "source": [
        "print(y[:, 1])"
      ],
      "execution_count": 11,
      "outputs": [
        {
          "output_type": "stream",
          "text": [
            "tensor([ 1.4863, -0.5047, -0.8095,  0.1459,  0.4738])\n"
          ],
          "name": "stdout"
        }
      ]
    },
    {
      "cell_type": "markdown",
      "metadata": {
        "id": "Yzrph3305o2b",
        "colab_type": "text"
      },
      "source": [
        "**Resizing**"
      ]
    },
    {
      "cell_type": "code",
      "metadata": {
        "id": "ol0eVIFL5sth",
        "colab_type": "code",
        "colab": {
          "base_uri": "https://localhost:8080/",
          "height": 34
        },
        "outputId": "dad7704e-309e-43b7-b17d-4bb60962ae90"
      },
      "source": [
        "x = torch.randn(4, 4)\n",
        "y = x.view(16)\n",
        "z = x.view(-1, 8)     # the size -1 is inferred from other dimensions\n",
        "print(x.size(), y.size(), z.size())"
      ],
      "execution_count": 12,
      "outputs": [
        {
          "output_type": "stream",
          "text": [
            "torch.Size([4, 4]) torch.Size([16]) torch.Size([2, 8])\n"
          ],
          "name": "stdout"
        }
      ]
    },
    {
      "cell_type": "code",
      "metadata": {
        "id": "saC7aSjW7CO8",
        "colab_type": "code",
        "colab": {
          "base_uri": "https://localhost:8080/",
          "height": 50
        },
        "outputId": "14b8b0ba-18c8-42ed-9389-c667c4035c8a"
      },
      "source": [
        "# If you have a one element tensor, use .item() to get the value as a Python scalar\n",
        "x = torch.randn(1)\n",
        "print(x)\n",
        "print(x.item())"
      ],
      "execution_count": 13,
      "outputs": [
        {
          "output_type": "stream",
          "text": [
            "tensor([-0.7007])\n",
            "-0.7006537914276123\n"
          ],
          "name": "stdout"
        }
      ]
    },
    {
      "cell_type": "markdown",
      "metadata": {
        "id": "vo72bcNO7grL",
        "colab_type": "text"
      },
      "source": [
        "## Converting a Torch Tensor to a NumPy Array\n"
      ]
    },
    {
      "cell_type": "code",
      "metadata": {
        "id": "LRLEdVCu7QmE",
        "colab_type": "code",
        "colab": {
          "base_uri": "https://localhost:8080/",
          "height": 50
        },
        "outputId": "609575f9-0617-408a-941c-361708529557"
      },
      "source": [
        "a = torch.ones(5)\n",
        "print(a)\n",
        "\n",
        "b = a.numpy()\n",
        "print(b)"
      ],
      "execution_count": 14,
      "outputs": [
        {
          "output_type": "stream",
          "text": [
            "tensor([1., 1., 1., 1., 1.])\n",
            "[1. 1. 1. 1. 1.]\n"
          ],
          "name": "stdout"
        }
      ]
    },
    {
      "cell_type": "code",
      "metadata": {
        "id": "ZzknnHwW7133",
        "colab_type": "code",
        "colab": {
          "base_uri": "https://localhost:8080/",
          "height": 50
        },
        "outputId": "36ba4c68-19b0-4a4b-c8fb-a8e71fa1b5a2"
      },
      "source": [
        "a.add_(1)\n",
        "print(a)\n",
        "print(b)"
      ],
      "execution_count": 15,
      "outputs": [
        {
          "output_type": "stream",
          "text": [
            "tensor([2., 2., 2., 2., 2.])\n",
            "[2. 2. 2. 2. 2.]\n"
          ],
          "name": "stdout"
        }
      ]
    },
    {
      "cell_type": "markdown",
      "metadata": {
        "id": "xzhBXSpDBEgU",
        "colab_type": "text"
      },
      "source": [
        "## Converting NumPy Array to Torch Tensor"
      ]
    },
    {
      "cell_type": "code",
      "metadata": {
        "id": "yLD7qYlvBHZ9",
        "colab_type": "code",
        "colab": {
          "base_uri": "https://localhost:8080/",
          "height": 50
        },
        "outputId": "1ab1ab66-4ffb-41c8-c4c0-858cb60023e0"
      },
      "source": [
        "import numpy as np\n",
        "\n",
        "a = np.ones(5)\n",
        "b = torch.from_numpy(a)\n",
        "np.add(a, 1, out=a)\n",
        "print(a)\n",
        "print(b)"
      ],
      "execution_count": 16,
      "outputs": [
        {
          "output_type": "stream",
          "text": [
            "[2. 2. 2. 2. 2.]\n",
            "tensor([2., 2., 2., 2., 2.], dtype=torch.float64)\n"
          ],
          "name": "stdout"
        }
      ]
    },
    {
      "cell_type": "markdown",
      "metadata": {
        "id": "idC1ENKkCKoM",
        "colab_type": "text"
      },
      "source": [
        "## CUDA Tensors"
      ]
    },
    {
      "cell_type": "code",
      "metadata": {
        "id": "vkMpeaeMCPY-",
        "colab_type": "code",
        "colab": {
          "base_uri": "https://localhost:8080/",
          "height": 50
        },
        "outputId": "b29850c4-dede-4d79-d039-e112a793570a"
      },
      "source": [
        "if torch.cuda.is_available():\n",
        "  device = torch.device(\"cuda\")             # a CUDA device object\n",
        "  y = torch.ones_like(x, device=device)     # directly create a tensor on GPU\n",
        "  x = x.to(device)                          # alternatively\n",
        "  z = x + y\n",
        "\n",
        "  print(z)\n",
        "  print(z.to(\"cpu\", dtype=torch.double))"
      ],
      "execution_count": 17,
      "outputs": [
        {
          "output_type": "stream",
          "text": [
            "tensor([0.2993], device='cuda:0')\n",
            "tensor([0.2993], dtype=torch.float64)\n"
          ],
          "name": "stdout"
        }
      ]
    }
  ]
}